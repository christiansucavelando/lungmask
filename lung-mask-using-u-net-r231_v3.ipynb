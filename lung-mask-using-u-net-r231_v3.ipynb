{
 "cells": [
  {
   "cell_type": "markdown",
   "metadata": {
    "papermill": {
     "duration": 0.004978,
     "end_time": "2020-09-03T15:41:19.557979",
     "exception": false,
     "start_time": "2020-09-03T15:41:19.553001",
     "status": "completed"
    },
    "tags": []
   },
   "source": [
    "I made this kernel for generating masks using deep learning. I was inspired by the discussion in this thread: https://www.kaggle.com/c/osic-pulmonary-fibrosis-progression/discussion/166123\n",
    "\n",
    "Using a pre-trained model, we can get a lung mask pretty easily. Let's check this out: "
   ]
  },
  {
   "cell_type": "code",
   "execution_count": null,
   "metadata": {
    "_cell_guid": "79c7e3d0-c299-4dcb-8224-4455121ee9b0",
    "_uuid": "d629ff2d2480ee46fbb7e2d37f6b5fab8052498a",
    "execution": {
     "iopub.execute_input": "2020-09-03T15:41:20.836249Z",
     "iopub.status.busy": "2020-09-03T15:41:20.835465Z",
     "iopub.status.idle": "2020-09-03T15:41:35.801729Z",
     "shell.execute_reply": "2020-09-03T15:41:35.801121Z"
    },
    "papermill": {
     "duration": 14.974787,
     "end_time": "2020-09-03T15:41:35.801878",
     "exception": false,
     "start_time": "2020-09-03T15:41:20.827091",
     "status": "completed"
    },
    "tags": []
   },
   "outputs": [],
   "source": [
    "#! pip install git+https://github.com/SoufianeDataFan/lungmask"
   ]
  },
  {
   "cell_type": "code",
   "execution_count": 4,
   "metadata": {
    "_cell_guid": "b1076dfc-b9ad-4769-8c92-a6c4dae69d19",
    "_uuid": "8f2839f25d086af736a60e9eeb907d3b93b6e0e5",
    "papermill": {
     "duration": 1.260948,
     "end_time": "2020-09-03T15:41:20.823014",
     "exception": false,
     "start_time": "2020-09-03T15:41:19.562066",
     "status": "completed"
    },
    "tags": []
   },
   "outputs": [],
   "source": [
    "from os import listdir, mkdir\n",
    "import numpy as np\n",
    "import pandas as pd\n",
    "import pydicom\n",
    "import seaborn as sns\n",
    "import matplotlib.pyplot as plt\n",
    "from tqdm import tqdm\n",
    "\n",
    "import skimage\n",
    "from skimage.measure import label,regionprops\n",
    "from skimage.segmentation import clear_border\n",
    "import matplotlib.pyplot as plt\n",
    "from matplotlib import colors\n",
    "from matplotlib import cm\n",
    "import cv2\n",
    "import math\n",
    "#Interaction user\n",
    "from ipywidgets import interact, interactive, fixed, interact_manual\n",
    "import ipywidgets as widgets\n",
    "\n",
    "from IPython.display import HTML\n",
    "from IPython.display import clear_output\n",
    "import warnings\n",
    "warnings.simplefilter(\"ignore\")\n",
    "warnings.filterwarnings(\"ignore\", category=DeprecationWarning)\n",
    "warnings.filterwarnings(\"ignore\", category=UserWarning)\n",
    "warnings.filterwarnings(\"ignore\", category=FutureWarning)\n"
   ]
  },
  {
   "cell_type": "code",
   "execution_count": 2,
   "metadata": {},
   "outputs": [],
   "source": [
    "def selectDicom(x=6):\n",
    "    print(\"El Dicom Escogido es: {}\".format(x))\n",
    "    return x\n",
    "def selectPatient(x=0):\n",
    "    print(\"Selected Patient: {}\".format(x))\n",
    "    return x\n",
    "def selectSeries(x=0):\n",
    "    print(\"Selected Serie: {}\".format(x))\n",
    "    return x\n",
    "def selectDirectory(x=\"./\"):\n",
    "    print(\"Selected Directory: {}\".format(x))\n",
    "    return x"
   ]
  },
  {
   "cell_type": "code",
   "execution_count": 3,
   "metadata": {},
   "outputs": [
    {
     "data": {
      "application/vnd.jupyter.widget-view+json": {
       "model_id": "d0c6cd667f0c4745bdb1d4cc09e7c6ba",
       "version_major": 2,
       "version_minor": 0
      },
      "text/plain": [
       "interactive(children=(Dropdown(description='x', options=('CD_2_CLEAN', 'CD_1_CLEAN'), value='CD_2_CLEAN'), Out…"
      ]
     },
     "metadata": {},
     "output_type": "display_data"
    }
   ],
   "source": [
    "widgetSelDirectory = interactive(selectDirectory, x=[\"CD_2_CLEAN\",\"CD_1_CLEAN\"])\n",
    "display(widgetSelDirectory)"
   ]
  },
  {
   "cell_type": "code",
   "execution_count": 4,
   "metadata": {},
   "outputs": [],
   "source": [
    "basepathAqp = \"../../datasetAqp/\"+widgetSelDirectory.result\n",
    "listEstudios = listdir(basepathAqp)"
   ]
  },
  {
   "cell_type": "code",
   "execution_count": 5,
   "metadata": {},
   "outputs": [],
   "source": [
    "datasetAqp = pd.DataFrame(listEstudios, columns=[\"Estudio\"])"
   ]
  },
  {
   "cell_type": "code",
   "execution_count": 6,
   "metadata": {},
   "outputs": [],
   "source": [
    "estudios = []\n",
    "for estudio in listEstudios:\n",
    "    estudios.append(basepathAqp + \"/\"+estudio)"
   ]
  },
  {
   "cell_type": "code",
   "execution_count": 7,
   "metadata": {},
   "outputs": [],
   "source": [
    "datasetAqp['fullPath'] = estudios\n",
    "datasetAqp = datasetAqp.sort_values(by=\"Estudio\", ascending=True, key=lambda col: col.str[5:],ignore_index = True)"
   ]
  },
  {
   "cell_type": "code",
   "execution_count": 8,
   "metadata": {},
   "outputs": [
    {
     "data": {
      "text/html": [
       "<div>\n",
       "<style scoped>\n",
       "    .dataframe tbody tr th:only-of-type {\n",
       "        vertical-align: middle;\n",
       "    }\n",
       "\n",
       "    .dataframe tbody tr th {\n",
       "        vertical-align: top;\n",
       "    }\n",
       "\n",
       "    .dataframe thead th {\n",
       "        text-align: right;\n",
       "    }\n",
       "</style>\n",
       "<table border=\"1\" class=\"dataframe\">\n",
       "  <thead>\n",
       "    <tr style=\"text-align: right;\">\n",
       "      <th></th>\n",
       "      <th>Estudio</th>\n",
       "      <th>fullPath</th>\n",
       "    </tr>\n",
       "  </thead>\n",
       "  <tbody>\n",
       "    <tr>\n",
       "      <th>0</th>\n",
       "      <td>COD0021</td>\n",
       "      <td>../../datasetAqp/CD_2_CLEAN/COD0021</td>\n",
       "    </tr>\n",
       "    <tr>\n",
       "      <th>1</th>\n",
       "      <td>COD0022</td>\n",
       "      <td>../../datasetAqp/CD_2_CLEAN/COD0022</td>\n",
       "    </tr>\n",
       "    <tr>\n",
       "      <th>2</th>\n",
       "      <td>COD0023</td>\n",
       "      <td>../../datasetAqp/CD_2_CLEAN/COD0023</td>\n",
       "    </tr>\n",
       "    <tr>\n",
       "      <th>3</th>\n",
       "      <td>COD0024</td>\n",
       "      <td>../../datasetAqp/CD_2_CLEAN/COD0024</td>\n",
       "    </tr>\n",
       "    <tr>\n",
       "      <th>4</th>\n",
       "      <td>COD0025</td>\n",
       "      <td>../../datasetAqp/CD_2_CLEAN/COD0025</td>\n",
       "    </tr>\n",
       "    <tr>\n",
       "      <th>5</th>\n",
       "      <td>COD0026</td>\n",
       "      <td>../../datasetAqp/CD_2_CLEAN/COD0026</td>\n",
       "    </tr>\n",
       "    <tr>\n",
       "      <th>6</th>\n",
       "      <td>COD0027</td>\n",
       "      <td>../../datasetAqp/CD_2_CLEAN/COD0027</td>\n",
       "    </tr>\n",
       "    <tr>\n",
       "      <th>7</th>\n",
       "      <td>COD0028</td>\n",
       "      <td>../../datasetAqp/CD_2_CLEAN/COD0028</td>\n",
       "    </tr>\n",
       "    <tr>\n",
       "      <th>8</th>\n",
       "      <td>COD0029</td>\n",
       "      <td>../../datasetAqp/CD_2_CLEAN/COD0029</td>\n",
       "    </tr>\n",
       "    <tr>\n",
       "      <th>9</th>\n",
       "      <td>COD0030</td>\n",
       "      <td>../../datasetAqp/CD_2_CLEAN/COD0030</td>\n",
       "    </tr>\n",
       "    <tr>\n",
       "      <th>10</th>\n",
       "      <td>COD0031</td>\n",
       "      <td>../../datasetAqp/CD_2_CLEAN/COD0031</td>\n",
       "    </tr>\n",
       "    <tr>\n",
       "      <th>11</th>\n",
       "      <td>COD0032</td>\n",
       "      <td>../../datasetAqp/CD_2_CLEAN/COD0032</td>\n",
       "    </tr>\n",
       "    <tr>\n",
       "      <th>12</th>\n",
       "      <td>COD0033</td>\n",
       "      <td>../../datasetAqp/CD_2_CLEAN/COD0033</td>\n",
       "    </tr>\n",
       "    <tr>\n",
       "      <th>13</th>\n",
       "      <td>COD0034</td>\n",
       "      <td>../../datasetAqp/CD_2_CLEAN/COD0034</td>\n",
       "    </tr>\n",
       "  </tbody>\n",
       "</table>\n",
       "</div>"
      ],
      "text/plain": [
       "    Estudio                             fullPath\n",
       "0   COD0021  ../../datasetAqp/CD_2_CLEAN/COD0021\n",
       "1   COD0022  ../../datasetAqp/CD_2_CLEAN/COD0022\n",
       "2   COD0023  ../../datasetAqp/CD_2_CLEAN/COD0023\n",
       "3   COD0024  ../../datasetAqp/CD_2_CLEAN/COD0024\n",
       "4   COD0025  ../../datasetAqp/CD_2_CLEAN/COD0025\n",
       "5   COD0026  ../../datasetAqp/CD_2_CLEAN/COD0026\n",
       "6   COD0027  ../../datasetAqp/CD_2_CLEAN/COD0027\n",
       "7   COD0028  ../../datasetAqp/CD_2_CLEAN/COD0028\n",
       "8   COD0029  ../../datasetAqp/CD_2_CLEAN/COD0029\n",
       "9   COD0030  ../../datasetAqp/CD_2_CLEAN/COD0030\n",
       "10  COD0031  ../../datasetAqp/CD_2_CLEAN/COD0031\n",
       "11  COD0032  ../../datasetAqp/CD_2_CLEAN/COD0032\n",
       "12  COD0033  ../../datasetAqp/CD_2_CLEAN/COD0033\n",
       "13  COD0034  ../../datasetAqp/CD_2_CLEAN/COD0034"
      ]
     },
     "execution_count": 8,
     "metadata": {},
     "output_type": "execute_result"
    }
   ],
   "source": [
    "datasetAqp"
   ]
  },
  {
   "cell_type": "code",
   "execution_count": 9,
   "metadata": {},
   "outputs": [],
   "source": [
    "slices = []\n",
    "def load_scans(dcm_path,stringInit):\n",
    "    if stringInit  == \"I\":\n",
    "        #ordenar por nro de orden del archivo -> porque no hay ImagePosition metadata por cual podriamos filtrar\n",
    "        files = listdir(dcm_path)\n",
    "        file_nums = [np.int(file.split(\".\")[0][1:]) for file  in files]\n",
    "        sorted_file_nums = np.sort(file_nums)[::-1]\n",
    "        \n",
    "        #cortes ordenados y leidos se debe agregar un I al inicio del corte dicom (ojo no lleva extension .dcm)\n",
    "        for file_num in tqdm(sorted_file_nums):\n",
    "            if (file_num == 0):\n",
    "                slices.append(pydicom.dcmread(dcm_path + \"/I\" + str(file_num) ))\n",
    "            elif (int(math.log10(file_num))+1 == 1):\n",
    "                slices.append(pydicom.dcmread(dcm_path + \"/I\" + str(file_num) ))\n",
    "            else:\n",
    "                slices.append(pydicom.dcmread(dcm_path + \"/I\" + str(file_num) ))\n",
    "    elif stringInit == \"Z\":\n",
    "        #ordenar por nro de orden del archivo -> porque no hay ImagePosition metadata por cual podriamos filtrar\n",
    "        files = listdir(dcm_path)\n",
    "        file_nums = [np.int(file.split(\".\")[0][1:]) for file  in files]\n",
    "        sorted_file_nums = np.sort(file_nums)[::-1]\n",
    "        #cortes ordenados y leidos se debe agregar un I al inicio del corte dicom (ojo no lleva extension .dcm)\n",
    "        for file_num in tqdm(sorted_file_nums):\n",
    "            if int(math.log10(file_num))+1 == 1:\n",
    "                slices.append(pydicom.dcmread(dcm_path + \"/Z0\" + str(file_num)))\n",
    "            else:\n",
    "                slices.append(pydicom.dcmread(dcm_path + \"/Z\" + str(file_num)))\n",
    "    return slices"
   ]
  },
  {
   "cell_type": "markdown",
   "metadata": {},
   "source": [
    "#### Widget Control Parameters"
   ]
  },
  {
   "cell_type": "code",
   "execution_count": 10,
   "metadata": {},
   "outputs": [
    {
     "data": {
      "application/vnd.jupyter.widget-view+json": {
       "model_id": "2e4c5b8a773a4946938a2e747b7c89df",
       "version_major": 2,
       "version_minor": 0
      },
      "text/plain": [
       "interactive(children=(IntSlider(value=6, description='x', max=20), Output()), _dom_classes=('widget-interact',…"
      ]
     },
     "metadata": {},
     "output_type": "display_data"
    }
   ],
   "source": [
    "widgetSelectionDicom = interactive(selectDicom,x=(0,20))\n",
    "display(widgetSelectionDicom)"
   ]
  },
  {
   "cell_type": "code",
   "execution_count": 11,
   "metadata": {},
   "outputs": [
    {
     "name": "stderr",
     "output_type": "stream",
     "text": [
      "100%|██████████| 280/280 [00:05<00:00, 49.61it/s]"
     ]
    },
    {
     "name": "stdout",
     "output_type": "stream",
     "text": [
      "El estudio contiene 280 cortes\n"
     ]
    },
    {
     "name": "stderr",
     "output_type": "stream",
     "text": [
      "\n"
     ]
    }
   ],
   "source": [
    "#muestra de un estudio dado\n",
    "example = datasetAqp.fullPath.values[widgetSelectionDicom.result]\n",
    "scans = load_scans(example,\"I\")\n",
    "print(\"El estudio contiene {} cortes\".format(len(scans)))"
   ]
  },
  {
   "cell_type": "code",
   "execution_count": 12,
   "metadata": {},
   "outputs": [
    {
     "data": {
      "text/plain": [
       "'COD0021'"
      ]
     },
     "execution_count": 12,
     "metadata": {},
     "output_type": "execute_result"
    }
   ],
   "source": [
    "estudio_sel = example[28:]\n",
    "estudio_sel"
   ]
  },
  {
   "cell_type": "code",
   "execution_count": 13,
   "metadata": {},
   "outputs": [
    {
     "name": "stderr",
     "output_type": "stream",
     "text": [
      "100%|██████████| 280/280 [00:01<00:00, 221.81it/s]\n"
     ]
    }
   ],
   "source": [
    "df = pd.DataFrame(columns=[\"PatientID\",\"StudyDescription\",\"SeriesNumber\",\"SeriesDescription\",\"InstanceNumber\",\"SeriesInstanceUID\"])\n",
    "#df = pd.DataFrame(columns=[\"PatientID\"])\n",
    "for scan in tqdm(scans):\n",
    "    #serie\n",
    "    dicSerie = {\"PatientID\":scan.PatientID,\n",
    "                \"StudyDescription\":scan.StudyDescription,\n",
    "                \"SeriesNumber\":scan.SeriesNumber,\n",
    "                \"SeriesDescription\":scan.SeriesDescription,\n",
    "                \"InstanceNumber\":scan.InstanceNumber,\n",
    "                \"SeriesInstanceUID\":scan.SeriesInstanceUID\n",
    "               }\n",
    "    df = df.append(dicSerie, ignore_index=True)"
   ]
  },
  {
   "cell_type": "code",
   "execution_count": 14,
   "metadata": {},
   "outputs": [
    {
     "data": {
      "text/html": [
       "<div>\n",
       "<style scoped>\n",
       "    .dataframe tbody tr th:only-of-type {\n",
       "        vertical-align: middle;\n",
       "    }\n",
       "\n",
       "    .dataframe tbody tr th {\n",
       "        vertical-align: top;\n",
       "    }\n",
       "\n",
       "    .dataframe thead th {\n",
       "        text-align: right;\n",
       "    }\n",
       "</style>\n",
       "<table border=\"1\" class=\"dataframe\">\n",
       "  <thead>\n",
       "    <tr style=\"text-align: right;\">\n",
       "      <th></th>\n",
       "      <th>PatientID</th>\n",
       "      <th>StudyDescription</th>\n",
       "      <th>SeriesNumber</th>\n",
       "      <th>SeriesDescription</th>\n",
       "      <th>InstanceNumber</th>\n",
       "      <th>SeriesInstanceUID</th>\n",
       "    </tr>\n",
       "  </thead>\n",
       "  <tbody>\n",
       "    <tr>\n",
       "      <th>0</th>\n",
       "      <td>SINID</td>\n",
       "      <td>PULMONES S/C</td>\n",
       "      <td>404</td>\n",
       "      <td>SAG SC PUL</td>\n",
       "      <td>70</td>\n",
       "      <td>1.3.6.1.4.1.5962.99.1.3103875192.1693539311.16...</td>\n",
       "    </tr>\n",
       "    <tr>\n",
       "      <th>1</th>\n",
       "      <td>SINID</td>\n",
       "      <td>PULMONES S/C</td>\n",
       "      <td>404</td>\n",
       "      <td>SAG SC PUL</td>\n",
       "      <td>69</td>\n",
       "      <td>1.3.6.1.4.1.5962.99.1.3103875192.1693539311.16...</td>\n",
       "    </tr>\n",
       "    <tr>\n",
       "      <th>2</th>\n",
       "      <td>SINID</td>\n",
       "      <td>PULMONES S/C</td>\n",
       "      <td>404</td>\n",
       "      <td>SAG SC PUL</td>\n",
       "      <td>68</td>\n",
       "      <td>1.3.6.1.4.1.5962.99.1.3103875192.1693539311.16...</td>\n",
       "    </tr>\n",
       "    <tr>\n",
       "      <th>3</th>\n",
       "      <td>SINID</td>\n",
       "      <td>PULMONES S/C</td>\n",
       "      <td>404</td>\n",
       "      <td>SAG SC PUL</td>\n",
       "      <td>67</td>\n",
       "      <td>1.3.6.1.4.1.5962.99.1.3103875192.1693539311.16...</td>\n",
       "    </tr>\n",
       "    <tr>\n",
       "      <th>4</th>\n",
       "      <td>SINID</td>\n",
       "      <td>PULMONES S/C</td>\n",
       "      <td>404</td>\n",
       "      <td>SAG SC PUL</td>\n",
       "      <td>66</td>\n",
       "      <td>1.3.6.1.4.1.5962.99.1.3103875192.1693539311.16...</td>\n",
       "    </tr>\n",
       "    <tr>\n",
       "      <th>...</th>\n",
       "      <td>...</td>\n",
       "      <td>...</td>\n",
       "      <td>...</td>\n",
       "      <td>...</td>\n",
       "      <td>...</td>\n",
       "      <td>...</td>\n",
       "    </tr>\n",
       "    <tr>\n",
       "      <th>275</th>\n",
       "      <td>SINID</td>\n",
       "      <td>PULMONES S/C</td>\n",
       "      <td>300</td>\n",
       "      <td>AX SC</td>\n",
       "      <td>5</td>\n",
       "      <td>1.3.6.1.4.1.5962.99.1.3103875192.1693539311.16...</td>\n",
       "    </tr>\n",
       "    <tr>\n",
       "      <th>276</th>\n",
       "      <td>SINID</td>\n",
       "      <td>PULMONES S/C</td>\n",
       "      <td>300</td>\n",
       "      <td>AX SC</td>\n",
       "      <td>4</td>\n",
       "      <td>1.3.6.1.4.1.5962.99.1.3103875192.1693539311.16...</td>\n",
       "    </tr>\n",
       "    <tr>\n",
       "      <th>277</th>\n",
       "      <td>SINID</td>\n",
       "      <td>PULMONES S/C</td>\n",
       "      <td>300</td>\n",
       "      <td>AX SC</td>\n",
       "      <td>3</td>\n",
       "      <td>1.3.6.1.4.1.5962.99.1.3103875192.1693539311.16...</td>\n",
       "    </tr>\n",
       "    <tr>\n",
       "      <th>278</th>\n",
       "      <td>SINID</td>\n",
       "      <td>PULMONES S/C</td>\n",
       "      <td>300</td>\n",
       "      <td>AX SC</td>\n",
       "      <td>2</td>\n",
       "      <td>1.3.6.1.4.1.5962.99.1.3103875192.1693539311.16...</td>\n",
       "    </tr>\n",
       "    <tr>\n",
       "      <th>279</th>\n",
       "      <td>SINID</td>\n",
       "      <td>PULMONES S/C</td>\n",
       "      <td>300</td>\n",
       "      <td>AX SC</td>\n",
       "      <td>1</td>\n",
       "      <td>1.3.6.1.4.1.5962.99.1.3103875192.1693539311.16...</td>\n",
       "    </tr>\n",
       "  </tbody>\n",
       "</table>\n",
       "<p>280 rows × 6 columns</p>\n",
       "</div>"
      ],
      "text/plain": [
       "    PatientID StudyDescription SeriesNumber SeriesDescription InstanceNumber  \\\n",
       "0       SINID     PULMONES S/C          404        SAG SC PUL             70   \n",
       "1       SINID     PULMONES S/C          404        SAG SC PUL             69   \n",
       "2       SINID     PULMONES S/C          404        SAG SC PUL             68   \n",
       "3       SINID     PULMONES S/C          404        SAG SC PUL             67   \n",
       "4       SINID     PULMONES S/C          404        SAG SC PUL             66   \n",
       "..        ...              ...          ...               ...            ...   \n",
       "275     SINID     PULMONES S/C          300             AX SC              5   \n",
       "276     SINID     PULMONES S/C          300             AX SC              4   \n",
       "277     SINID     PULMONES S/C          300             AX SC              3   \n",
       "278     SINID     PULMONES S/C          300             AX SC              2   \n",
       "279     SINID     PULMONES S/C          300             AX SC              1   \n",
       "\n",
       "                                     SeriesInstanceUID  \n",
       "0    1.3.6.1.4.1.5962.99.1.3103875192.1693539311.16...  \n",
       "1    1.3.6.1.4.1.5962.99.1.3103875192.1693539311.16...  \n",
       "2    1.3.6.1.4.1.5962.99.1.3103875192.1693539311.16...  \n",
       "3    1.3.6.1.4.1.5962.99.1.3103875192.1693539311.16...  \n",
       "4    1.3.6.1.4.1.5962.99.1.3103875192.1693539311.16...  \n",
       "..                                                 ...  \n",
       "275  1.3.6.1.4.1.5962.99.1.3103875192.1693539311.16...  \n",
       "276  1.3.6.1.4.1.5962.99.1.3103875192.1693539311.16...  \n",
       "277  1.3.6.1.4.1.5962.99.1.3103875192.1693539311.16...  \n",
       "278  1.3.6.1.4.1.5962.99.1.3103875192.1693539311.16...  \n",
       "279  1.3.6.1.4.1.5962.99.1.3103875192.1693539311.16...  \n",
       "\n",
       "[280 rows x 6 columns]"
      ]
     },
     "execution_count": 14,
     "metadata": {},
     "output_type": "execute_result"
    }
   ],
   "source": [
    "df"
   ]
  },
  {
   "cell_type": "code",
   "execution_count": 15,
   "metadata": {},
   "outputs": [
    {
     "data": {
      "text/plain": [
       "array(['SINID'], dtype=object)"
      ]
     },
     "execution_count": 15,
     "metadata": {},
     "output_type": "execute_result"
    }
   ],
   "source": [
    "# Oonly one pacient with different type of series\n",
    "listPatients = df.PatientID.unique()\n",
    "listPatients"
   ]
  },
  {
   "cell_type": "code",
   "execution_count": 16,
   "metadata": {},
   "outputs": [
    {
     "data": {
      "application/vnd.jupyter.widget-view+json": {
       "model_id": "75bae3753b384489a65dcfd08ab09aec",
       "version_major": 2,
       "version_minor": 0
      },
      "text/plain": [
       "interactive(children=(Dropdown(description='x', options=('SINID',), value='SINID'), Output()), _dom_classes=('…"
      ]
     },
     "metadata": {},
     "output_type": "display_data"
    }
   ],
   "source": [
    "widgetSelPatient = interactive(selectPatient, x=listPatients)\n",
    "display(widgetSelPatient)"
   ]
  },
  {
   "cell_type": "code",
   "execution_count": 17,
   "metadata": {},
   "outputs": [
    {
     "data": {
      "text/plain": [
       "array([404, 402, 400, 300], dtype=object)"
      ]
     },
     "execution_count": 17,
     "metadata": {},
     "output_type": "execute_result"
    }
   ],
   "source": [
    "#Series List\n",
    "listSeries = df[df[\"PatientID\"]==widgetSelPatient.result][\"SeriesNumber\"].unique()\n",
    "listSeries"
   ]
  },
  {
   "cell_type": "code",
   "execution_count": 18,
   "metadata": {},
   "outputs": [
    {
     "data": {
      "text/plain": [
       "array(['SAG SC PUL', 'COR SC PUL', 'AX SC PUL', 'AX SC'], dtype=object)"
      ]
     },
     "execution_count": 18,
     "metadata": {},
     "output_type": "execute_result"
    }
   ],
   "source": [
    "#Description of every serie\n",
    "listSeriesDescription = df[df[\"PatientID\"]==listPatients[0]][\"SeriesDescription\"].unique()\n",
    "listSeriesDescription"
   ]
  },
  {
   "cell_type": "code",
   "execution_count": 19,
   "metadata": {},
   "outputs": [
    {
     "data": {
      "application/vnd.jupyter.widget-view+json": {
       "model_id": "08ed688259d54db1a6d98907652490f1",
       "version_major": 2,
       "version_minor": 0
      },
      "text/plain": [
       "interactive(children=(Dropdown(description='x', options=(404, 402, 400, 300), value=404), Output()), _dom_clas…"
      ]
     },
     "metadata": {},
     "output_type": "display_data"
    }
   ],
   "source": [
    "widgetSelSerie = interactive(selectSeries, x=listSeries)\n",
    "display(widgetSelSerie)"
   ]
  },
  {
   "cell_type": "code",
   "execution_count": 20,
   "metadata": {},
   "outputs": [
    {
     "data": {
      "text/html": [
       "<div>\n",
       "<style scoped>\n",
       "    .dataframe tbody tr th:only-of-type {\n",
       "        vertical-align: middle;\n",
       "    }\n",
       "\n",
       "    .dataframe tbody tr th {\n",
       "        vertical-align: top;\n",
       "    }\n",
       "\n",
       "    .dataframe thead th {\n",
       "        text-align: right;\n",
       "    }\n",
       "</style>\n",
       "<table border=\"1\" class=\"dataframe\">\n",
       "  <thead>\n",
       "    <tr style=\"text-align: right;\">\n",
       "      <th></th>\n",
       "      <th>PatientID</th>\n",
       "      <th>StudyDescription</th>\n",
       "      <th>SeriesNumber</th>\n",
       "      <th>SeriesDescription</th>\n",
       "      <th>InstanceNumber</th>\n",
       "      <th>SeriesInstanceUID</th>\n",
       "    </tr>\n",
       "  </thead>\n",
       "  <tbody>\n",
       "    <tr>\n",
       "      <th>140</th>\n",
       "      <td>SINID</td>\n",
       "      <td>PULMONES S/C</td>\n",
       "      <td>400</td>\n",
       "      <td>AX SC PUL</td>\n",
       "      <td>70</td>\n",
       "      <td>1.3.6.1.4.1.5962.99.1.3103875192.1693539311.16...</td>\n",
       "    </tr>\n",
       "    <tr>\n",
       "      <th>141</th>\n",
       "      <td>SINID</td>\n",
       "      <td>PULMONES S/C</td>\n",
       "      <td>400</td>\n",
       "      <td>AX SC PUL</td>\n",
       "      <td>69</td>\n",
       "      <td>1.3.6.1.4.1.5962.99.1.3103875192.1693539311.16...</td>\n",
       "    </tr>\n",
       "    <tr>\n",
       "      <th>142</th>\n",
       "      <td>SINID</td>\n",
       "      <td>PULMONES S/C</td>\n",
       "      <td>400</td>\n",
       "      <td>AX SC PUL</td>\n",
       "      <td>68</td>\n",
       "      <td>1.3.6.1.4.1.5962.99.1.3103875192.1693539311.16...</td>\n",
       "    </tr>\n",
       "    <tr>\n",
       "      <th>143</th>\n",
       "      <td>SINID</td>\n",
       "      <td>PULMONES S/C</td>\n",
       "      <td>400</td>\n",
       "      <td>AX SC PUL</td>\n",
       "      <td>67</td>\n",
       "      <td>1.3.6.1.4.1.5962.99.1.3103875192.1693539311.16...</td>\n",
       "    </tr>\n",
       "    <tr>\n",
       "      <th>144</th>\n",
       "      <td>SINID</td>\n",
       "      <td>PULMONES S/C</td>\n",
       "      <td>400</td>\n",
       "      <td>AX SC PUL</td>\n",
       "      <td>66</td>\n",
       "      <td>1.3.6.1.4.1.5962.99.1.3103875192.1693539311.16...</td>\n",
       "    </tr>\n",
       "    <tr>\n",
       "      <th>...</th>\n",
       "      <td>...</td>\n",
       "      <td>...</td>\n",
       "      <td>...</td>\n",
       "      <td>...</td>\n",
       "      <td>...</td>\n",
       "      <td>...</td>\n",
       "    </tr>\n",
       "    <tr>\n",
       "      <th>205</th>\n",
       "      <td>SINID</td>\n",
       "      <td>PULMONES S/C</td>\n",
       "      <td>400</td>\n",
       "      <td>AX SC PUL</td>\n",
       "      <td>5</td>\n",
       "      <td>1.3.6.1.4.1.5962.99.1.3103875192.1693539311.16...</td>\n",
       "    </tr>\n",
       "    <tr>\n",
       "      <th>206</th>\n",
       "      <td>SINID</td>\n",
       "      <td>PULMONES S/C</td>\n",
       "      <td>400</td>\n",
       "      <td>AX SC PUL</td>\n",
       "      <td>4</td>\n",
       "      <td>1.3.6.1.4.1.5962.99.1.3103875192.1693539311.16...</td>\n",
       "    </tr>\n",
       "    <tr>\n",
       "      <th>207</th>\n",
       "      <td>SINID</td>\n",
       "      <td>PULMONES S/C</td>\n",
       "      <td>400</td>\n",
       "      <td>AX SC PUL</td>\n",
       "      <td>3</td>\n",
       "      <td>1.3.6.1.4.1.5962.99.1.3103875192.1693539311.16...</td>\n",
       "    </tr>\n",
       "    <tr>\n",
       "      <th>208</th>\n",
       "      <td>SINID</td>\n",
       "      <td>PULMONES S/C</td>\n",
       "      <td>400</td>\n",
       "      <td>AX SC PUL</td>\n",
       "      <td>2</td>\n",
       "      <td>1.3.6.1.4.1.5962.99.1.3103875192.1693539311.16...</td>\n",
       "    </tr>\n",
       "    <tr>\n",
       "      <th>209</th>\n",
       "      <td>SINID</td>\n",
       "      <td>PULMONES S/C</td>\n",
       "      <td>400</td>\n",
       "      <td>AX SC PUL</td>\n",
       "      <td>1</td>\n",
       "      <td>1.3.6.1.4.1.5962.99.1.3103875192.1693539311.16...</td>\n",
       "    </tr>\n",
       "  </tbody>\n",
       "</table>\n",
       "<p>70 rows × 6 columns</p>\n",
       "</div>"
      ],
      "text/plain": [
       "    PatientID StudyDescription SeriesNumber SeriesDescription InstanceNumber  \\\n",
       "140     SINID     PULMONES S/C          400         AX SC PUL             70   \n",
       "141     SINID     PULMONES S/C          400         AX SC PUL             69   \n",
       "142     SINID     PULMONES S/C          400         AX SC PUL             68   \n",
       "143     SINID     PULMONES S/C          400         AX SC PUL             67   \n",
       "144     SINID     PULMONES S/C          400         AX SC PUL             66   \n",
       "..        ...              ...          ...               ...            ...   \n",
       "205     SINID     PULMONES S/C          400         AX SC PUL              5   \n",
       "206     SINID     PULMONES S/C          400         AX SC PUL              4   \n",
       "207     SINID     PULMONES S/C          400         AX SC PUL              3   \n",
       "208     SINID     PULMONES S/C          400         AX SC PUL              2   \n",
       "209     SINID     PULMONES S/C          400         AX SC PUL              1   \n",
       "\n",
       "                                     SeriesInstanceUID  \n",
       "140  1.3.6.1.4.1.5962.99.1.3103875192.1693539311.16...  \n",
       "141  1.3.6.1.4.1.5962.99.1.3103875192.1693539311.16...  \n",
       "142  1.3.6.1.4.1.5962.99.1.3103875192.1693539311.16...  \n",
       "143  1.3.6.1.4.1.5962.99.1.3103875192.1693539311.16...  \n",
       "144  1.3.6.1.4.1.5962.99.1.3103875192.1693539311.16...  \n",
       "..                                                 ...  \n",
       "205  1.3.6.1.4.1.5962.99.1.3103875192.1693539311.16...  \n",
       "206  1.3.6.1.4.1.5962.99.1.3103875192.1693539311.16...  \n",
       "207  1.3.6.1.4.1.5962.99.1.3103875192.1693539311.16...  \n",
       "208  1.3.6.1.4.1.5962.99.1.3103875192.1693539311.16...  \n",
       "209  1.3.6.1.4.1.5962.99.1.3103875192.1693539311.16...  \n",
       "\n",
       "[70 rows x 6 columns]"
      ]
     },
     "execution_count": 20,
     "metadata": {},
     "output_type": "execute_result"
    }
   ],
   "source": [
    "#Select Slice AXIAL S/C PULM which is parenquimal slice\n",
    "dicomAislada = df[(df[\"PatientID\"]==widgetSelPatient.result) & (df[\"SeriesNumber\"]==widgetSelSerie.result)]\n",
    "dicomAislada"
   ]
  },
  {
   "cell_type": "code",
   "execution_count": 21,
   "metadata": {},
   "outputs": [
    {
     "data": {
      "text/plain": [
       "'1.3.6.1.4.1.5962.99.1.3103875192.1693539311.1622306578552.76.0'"
      ]
     },
     "execution_count": 21,
     "metadata": {},
     "output_type": "execute_result"
    }
   ],
   "source": [
    "serieID_select = dicomAislada[\"SeriesInstanceUID\"][dicomAislada.index.min()]\n",
    "serieID_select"
   ]
  },
  {
   "cell_type": "code",
   "execution_count": 22,
   "metadata": {},
   "outputs": [
    {
     "name": "stdout",
     "output_type": "stream",
     "text": [
      "Min Número de Corte: 140\n",
      "Max Número de Corte: 209\n"
     ]
    }
   ],
   "source": [
    "print(\"Min Número de Corte: {}\".format(dicomAislada.index.min()))\n",
    "print(\"Max Número de Corte: {}\".format(dicomAislada.index.max()))"
   ]
  },
  {
   "cell_type": "code",
   "execution_count": 23,
   "metadata": {},
   "outputs": [],
   "source": [
    "scansFiltrado = scans[dicomAislada.index.min():dicomAislada.index.max()+1]"
   ]
  },
  {
   "cell_type": "code",
   "execution_count": 24,
   "metadata": {},
   "outputs": [],
   "source": [
    "orderScans = sorted(scansFiltrado, key=lambda corte: corte.InstanceNumber)"
   ]
  },
  {
   "cell_type": "markdown",
   "metadata": {},
   "source": [
    "#### Lectura de pixels y transformacion a HU"
   ]
  },
  {
   "cell_type": "code",
   "execution_count": 25,
   "metadata": {},
   "outputs": [],
   "source": [
    "#definiendo el aire con valores cero (pixeles completamente oscuros vacio)\n",
    "def set_outside_scanner_to_air(raw_pixelarrays):\n",
    "    #filtrando pintando todo negro el aire\n",
    "    raw_pixelarrays[raw_pixelarrays <= -1000] = 0\n",
    "    return raw_pixelarrays"
   ]
  },
  {
   "cell_type": "code",
   "execution_count": 26,
   "metadata": {},
   "outputs": [],
   "source": [
    "#tranformar a unidades de hounsfield\n",
    "def transform_to_hu(slices):\n",
    "    images = np.stack([file.pixel_array for file in slices])\n",
    "    #convertido a escala de grises de 16 bits\n",
    "    images = images.astype(np.int16)\n",
    "    #aplicar pintado de aire de todos los cortes apilados <= -1000\n",
    "    images = set_outside_scanner_to_air(images)\n",
    "    \n",
    "    #convertirmos a HU\n",
    "    for n in range(len(slices)):\n",
    "        intercept = slices[n].RescaleIntercept\n",
    "        slope = slices[n].RescaleSlope\n",
    "        \n",
    "        #FORMULA = mb + i donde m slope o pendiente e i es el intercepto\n",
    "        \n",
    "        #MULTIPLICAR EL SLOPE\n",
    "        #solo en caso de q el slope sea 0.5, 2, 0.9 \n",
    "        if slope != 1:\n",
    "            #para ser multiplicado por slope debe pasarse a flotante\n",
    "            images[n] = slope * images[n].astype(np.float64)\n",
    "            #despues ya convertimos a la escala de grise 16 bits\n",
    "            images[n] = images[n].astype(np.int16)\n",
    "        \n",
    "        #ADICIONAR EL INTERCEPTO\n",
    "        #directamente el intercepto en caso el slope sea 1\n",
    "        #trata como escala de 16 bits el intercepto\n",
    "        images[n] += np.int16(intercept)\n",
    "        \n",
    "    return np.array(images, dtype=np.int16)"
   ]
  },
  {
   "cell_type": "code",
   "execution_count": 27,
   "metadata": {},
   "outputs": [],
   "source": [
    "hu_scans = transform_to_hu(orderScans)"
   ]
  },
  {
   "cell_type": "code",
   "execution_count": 28,
   "metadata": {},
   "outputs": [
    {
     "name": "stdout",
     "output_type": "stream",
     "text": [
      "Total Nro de Cortes: 70\n"
     ]
    }
   ],
   "source": [
    "print(\"Total Nro de Cortes: {}\".format(len(hu_scans)))"
   ]
  },
  {
   "cell_type": "code",
   "execution_count": 29,
   "metadata": {},
   "outputs": [
    {
     "data": {
      "image/png": "[encoded data removed]",
      "text/plain": [
       "<Figure size 1440x360 with 4 Axes>"
      ]
     },
     "metadata": {
      "needs_background": "light"
     },
     "output_type": "display_data"
    }
   ],
   "source": [
    "fix, ax =  plt.subplots(1,4,figsize=(20,5))\n",
    "ax[0].set_title(\"Original CT-Scan\")\n",
    "ax[0].imshow(orderScans[30].pixel_array, cmap=\"bone\")\n",
    "ax[1].set_title(\"PixelArray Distribution\")\n",
    "sns.distplot(orderScans[30].pixel_array.flatten(),ax=ax[1])\n",
    "\n",
    "ax[2].set_title(\"Ct_Scan in HU\")\n",
    "ax[2].imshow(hu_scans[30],cmap='bone')\n",
    "ax[3].set_title(\"HU distribution values\")\n",
    "sns.distplot(hu_scans[30].flatten(), ax=ax[3])\n",
    "\n",
    "for m in [0,2]:\n",
    "    ax[m].grid(False)"
   ]
  },
  {
   "cell_type": "code",
   "execution_count": 30,
   "metadata": {},
   "outputs": [],
   "source": [
    "# import matplotlib.animation as animation\n",
    "\n",
    "# fig = plt.figure()\n",
    "\n",
    "# ims = []\n",
    "# for image in orderScans:\n",
    "#     newimage = image.pixel_array\n",
    "#     im = plt.imshow(newimage, animated=True, cmap=\"Greys\")\n",
    "#     plt.axis(\"off\")\n",
    "#     ims.append([im])\n",
    "\n",
    "# ani = animation.ArtistAnimation(fig, ims, interval=100, blit=False,\n",
    "#                                 repeat_delay=1000)"
   ]
  },
  {
   "cell_type": "code",
   "execution_count": 31,
   "metadata": {},
   "outputs": [],
   "source": [
    "# HTML(ani.to_jshtml())"
   ]
  },
  {
   "cell_type": "markdown",
   "metadata": {
    "papermill": {
     "duration": 0.006502,
     "end_time": "2020-09-03T15:41:35.815998",
     "exception": false,
     "start_time": "2020-09-03T15:41:35.809496",
     "status": "completed"
    },
    "tags": []
   },
   "source": [
    "### **Original Lung CT-Scan**"
   ]
  },
  {
   "cell_type": "code",
   "execution_count": 32,
   "metadata": {},
   "outputs": [],
   "source": [
    "# #Aplicar UH al dicom completo\n",
    "# def get_pixels_hu(slices):\n",
    "#     image = np.stack([s.pixel_array for s in slices])\n",
    "#     # Convert to int16 (from sometimes int16), \n",
    "#     # should be possible as values should always be low enough (<32k)\n",
    "#     image = image.astype(np.int16)\n",
    "\n",
    "#     # Set outside-of-scan pixels to 0\n",
    "#     # The intercept is usually -1024, so air is approximately 0\n",
    "#     image[image == -2000] = 0\n",
    "    \n",
    "#     # Convert to Hounsfield units (HU)\n",
    "#     for slice_number in range(len(slices)):\n",
    "        \n",
    "#         intercept = slices[slice_number].RescaleIntercept\n",
    "#         slope = slices[slice_number].RescaleSlope\n",
    "        \n",
    "#         if slope != 1:\n",
    "#             image[slice_number] = slope * image[slice_number].astype(np.float64)\n",
    "#             image[slice_number] = image[slice_number].astype(np.int16)\n",
    "            \n",
    "#         image[slice_number] += np.int16(intercept)\n",
    "    \n",
    "#     return np.array(image, dtype=np.int16)"
   ]
  },
  {
   "cell_type": "code",
   "execution_count": 33,
   "metadata": {},
   "outputs": [],
   "source": [
    "# #mascara creada a partir del intervalo de UH ya definido y con la\n",
    "# #imagen ya aplicada la transformacion de UH\n",
    "# def set_lungwin(img, hu=[-1200., 600.]):\n",
    "#     lungwin = np.array(hu)\n",
    "#     newimg = (img-lungwin[0]) / (lungwin[1]-lungwin[0])\n",
    "#     newimg[newimg < 0] = 0\n",
    "#     newimg[newimg > 1] = 1\n",
    "#     newimg = (newimg * 255).astype('uint8')\n",
    "#     return newimg"
   ]
  },
  {
   "cell_type": "code",
   "execution_count": 34,
   "metadata": {},
   "outputs": [],
   "source": [
    "# scan_array = set_lungwin(get_pixels_hu(scans))"
   ]
  },
  {
   "cell_type": "markdown",
   "metadata": {
    "papermill": {
     "duration": 0.022576,
     "end_time": "2020-09-03T15:41:36.593058",
     "exception": false,
     "start_time": "2020-09-03T15:41:36.570482",
     "status": "completed"
    },
    "tags": []
   },
   "source": [
    "### **Mask using U-net(R231) Lung CT-Scan**"
   ]
  },
  {
   "cell_type": "code",
   "execution_count": 35,
   "metadata": {
    "execution": {
     "iopub.execute_input": "2020-09-03T15:41:36.643833Z",
     "iopub.status.busy": "2020-09-03T15:41:36.642951Z",
     "iopub.status.idle": "2020-09-03T15:41:38.211113Z",
     "shell.execute_reply": "2020-09-03T15:41:38.209756Z"
    },
    "papermill": {
     "duration": 1.597313,
     "end_time": "2020-09-03T15:41:38.211255",
     "exception": false,
     "start_time": "2020-09-03T15:41:36.613942",
     "status": "completed"
    },
    "tags": []
   },
   "outputs": [],
   "source": [
    "from lungmask import mask\n",
    "import SimpleITK as sitk\n",
    "import sys\n",
    "import os"
   ]
  },
  {
   "cell_type": "code",
   "execution_count": 36,
   "metadata": {},
   "outputs": [],
   "source": [
    "# #agregando una dimension adicional\n",
    "# arrayImage = np.expand_dims(im, axis=0)\n",
    "# #pasando a simple itk\n",
    "# print(arrayImage.shape)\n",
    "# input_image = sitk.GetImageFromArray(arrayImage)\n",
    "# #volviendo a array numpy\n",
    "# arrayImage = sitk.GetArrayFromImage(input_image).astype(np.int32)\n",
    "# #arrayImage.shape\n",
    "\n",
    "# z = 0\n",
    "# sliceImage = sitk.GetArrayFromImage(input_image)[z,:,:,:]\n",
    "# plt.imshow(sliceImage)"
   ]
  },
  {
   "cell_type": "code",
   "execution_count": 37,
   "metadata": {},
   "outputs": [],
   "source": [
    "mascarasPred = []\n",
    "def get_mascaras(slices_hu):\n",
    "    \n",
    "    for corte in tqdm(slices_hu):   \n",
    "        #agregando una dimension adicional\n",
    "        arrayImage = np.expand_dims(corte.astype(np.float32)  , axis=0)\n",
    "        #pasando a simple itk\n",
    "        input_image = sitk.GetImageFromArray(arrayImage)      \n",
    "        \n",
    "        mascarasPred.append(mask.apply(input_image)[0])\n",
    "    return mascarasPred"
   ]
  },
  {
   "cell_type": "code",
   "execution_count": 38,
   "metadata": {
    "scrolled": true
   },
   "outputs": [
    {
     "data": {
      "text/plain": [
       "70"
      ]
     },
     "execution_count": 38,
     "metadata": {},
     "output_type": "execute_result"
    }
   ],
   "source": [
    "len(orderScans)"
   ]
  },
  {
   "cell_type": "code",
   "execution_count": 39,
   "metadata": {},
   "outputs": [
    {
     "name": "stderr",
     "output_type": "stream",
     "text": [
      "100%|██████████| 70/70 [01:44<00:00,  1.49s/it]\n"
     ]
    }
   ],
   "source": [
    "mascaras = get_mascaras(hu_scans[::-1])"
   ]
  },
  {
   "cell_type": "code",
   "execution_count": 43,
   "metadata": {},
   "outputs": [
    {
     "data": {
      "text/plain": [
       "<matplotlib.image.AxesImage at 0x7f798b1dac40>"
      ]
     },
     "execution_count": 43,
     "metadata": {},
     "output_type": "execute_result"
    },
    {
     "data": {
      "image/png": "[encoded data removed]",
      "text/plain": [
       "<Figure size 864x864 with 1 Axes>"
      ]
     },
     "metadata": {
      "needs_background": "light"
     },
     "output_type": "display_data"
    }
   ],
   "source": [
    "fig = plt.figure(figsize=(12, 12))\n",
    "plt.imshow(mascaras[15],norm=colors.Normalize(0,1))"
   ]
  },
  {
   "cell_type": "code",
   "execution_count": 44,
   "metadata": {},
   "outputs": [],
   "source": [
    "# import matplotlib.animation as animation\n",
    "\n",
    "# fig = plt.figure()\n",
    "\n",
    "# ims = []\n",
    "# for image in mascaras:\n",
    "#     im = plt.imshow(image, animated=True, cmap=\"Greys\")\n",
    "#     plt.axis(\"off\")\n",
    "#     ims.append([im])\n",
    "\n",
    "# ani = animation.ArtistAnimation(fig, ims, interval=100, blit=False,\n",
    "#                                 repeat_delay=1000)"
   ]
  },
  {
   "cell_type": "code",
   "execution_count": 45,
   "metadata": {},
   "outputs": [],
   "source": [
    "# HTML(ani.to_jshtml())"
   ]
  },
  {
   "cell_type": "markdown",
   "metadata": {},
   "source": [
    "##### Saving mask"
   ]
  },
  {
   "cell_type": "code",
   "execution_count": 46,
   "metadata": {},
   "outputs": [
    {
     "name": "stdout",
     "output_type": "stream",
     "text": [
      "Reading Dicom directory: ../../datasetAqp/CD_2_CLEAN/COD0021\n",
      "Con el ID de serie:  1.3.6.1.4.1.5962.99.1.3103875192.1693539311.1622306578552.76.0\n"
     ]
    }
   ],
   "source": [
    "print(\"Reading Dicom directory:\", basepathAqp +\"/\"+ estudio_sel)\n",
    "print(\"Con el ID de serie: \",serieID_select)\n",
    "reader = sitk.ImageSeriesReader()\n",
    "\n",
    "dicom_names = reader.GetGDCMSeriesFileNames(basepathAqp + \"/\" + estudio_sel, serieID_select)\n",
    "#dicom_names = reader.GetGDCMSeriesFileNames(basepathAqp + \"/\" + estudio_sel)\n",
    "reader.SetFileNames(dicom_names)\n",
    "\n",
    "imageDicom = reader.Execute()"
   ]
  },
  {
   "cell_type": "code",
   "execution_count": 47,
   "metadata": {},
   "outputs": [
    {
     "name": "stdout",
     "output_type": "stream",
     "text": [
      "Image size: (512, 512, 70)\n",
      "Image direction: (0.9950938486093481, 0.0, -0.09893549646024945, 0.0, 1.0, 0.0, 0.09893549646024948, 0.0, 0.9950938486093479)\n",
      "Image dimension: 3\n",
      "Image origin: (-147.3951111, -197.5, -318.780426)\n"
     ]
    }
   ],
   "source": [
    "size = imageDicom.GetSize()\n",
    "print(\"Image size:\", imageDicom.GetSize())\n",
    "print(\"Image direction:\", imageDicom.GetDirection())\n",
    "print(\"Image dimension:\", imageDicom.GetDimension())\n",
    "print(\"Image origin:\", imageDicom.GetOrigin())"
   ]
  },
  {
   "cell_type": "code",
   "execution_count": 48,
   "metadata": {},
   "outputs": [
    {
     "data": {
      "text/plain": [
       "70"
      ]
     },
     "execution_count": 48,
     "metadata": {},
     "output_type": "execute_result"
    }
   ],
   "source": [
    "len(mascaras)"
   ]
  },
  {
   "cell_type": "code",
   "execution_count": 49,
   "metadata": {},
   "outputs": [],
   "source": [
    "maskAsImage = np.zeros((len(mascaras),512,512))"
   ]
  },
  {
   "cell_type": "code",
   "execution_count": 50,
   "metadata": {},
   "outputs": [],
   "source": [
    "for idxMask in range(len(mascaras)):\n",
    "    maskAsImage[idxMask,:,:] = mascaras[idxMask]"
   ]
  },
  {
   "cell_type": "code",
   "execution_count": 51,
   "metadata": {},
   "outputs": [],
   "source": [
    "newMask = sitk.GetImageFromArray(maskAsImage)"
   ]
  },
  {
   "cell_type": "code",
   "execution_count": 52,
   "metadata": {},
   "outputs": [],
   "source": [
    "newMask.CopyInformation(imageDicom)"
   ]
  },
  {
   "cell_type": "code",
   "execution_count": 53,
   "metadata": {},
   "outputs": [
    {
     "name": "stdout",
     "output_type": "stream",
     "text": [
      "Image size: (512, 512, 70)\n",
      "Image direction: (0.9950938486093481, 0.0, -0.09893549646024945, 0.0, 1.0, 0.0, 0.09893549646024948, 0.0, 0.9950938486093479)\n",
      "Image dimension: 3\n",
      "Image origin: (-147.3951111, -197.5, -318.780426)\n"
     ]
    }
   ],
   "source": [
    "print(\"Image size:\", newMask.GetSize())\n",
    "print(\"Image direction:\", newMask.GetDirection())\n",
    "print(\"Image dimension:\", newMask.GetDimension())\n",
    "print(\"Image origin:\", newMask.GetOrigin())"
   ]
  },
  {
   "cell_type": "code",
   "execution_count": 54,
   "metadata": {},
   "outputs": [],
   "source": [
    "writer = sitk.ImageFileWriter()\n",
    "writer.SetFileName(\"maskAsImage_\"+estudio_sel+\".nii.gz\")\n",
    "writer.Execute(newMask);"
   ]
  },
  {
   "cell_type": "code",
   "execution_count": 55,
   "metadata": {},
   "outputs": [],
   "source": [
    "#dice e IOU sin clase\n",
    "\n",
    "def dice_coef_metric(probabilities: np.ndarray,\n",
    "                     truth: np.ndarray,\n",
    "                     treshold: float = 0.5,\n",
    "                     eps: float = 1e-9) -> np.ndarray:\n",
    "    \"\"\"\n",
    "    Calculate Dice score for data batch.\n",
    "    Params:\n",
    "        probobilities: model outputs after activation function.\n",
    "        truth: truth values.\n",
    "        threshold: threshold for probabilities.\n",
    "        eps: additive to refine the estimate.\n",
    "        Returns: dice score aka f1.\n",
    "    \"\"\"\n",
    "    scores = []\n",
    "    num = probabilities.shape[0]\n",
    "    \n",
    "    predictions = (probabilities >= treshold)\n",
    "    \n",
    "    assert(predictions.shape == truth.shape)\n",
    "    #recorremos el nro de cortes\n",
    "    for i in range(num):\n",
    "        prediction = predictions[i]\n",
    "        truth_ = truth[i]\n",
    "        intersection = 2.0 * (truth_ * prediction).sum()\n",
    "        union = truth_.sum() + prediction.sum()\n",
    "        if truth_.sum() == 0 and prediction.sum() == 0:\n",
    "            scores.append(1.0)\n",
    "        else:\n",
    "            scores.append((intersection + eps) / union)\n",
    "    return np.mean(scores)\n",
    "\n",
    "\n",
    "def jaccard_coef_metric(probabilities: np.ndarray,\n",
    "               truth: np.ndarray,\n",
    "               treshold: float = 0.5,\n",
    "               eps: float = 1e-9) -> np.ndarray:\n",
    "    \"\"\"\n",
    "    Calculate Jaccard index for data batch.\n",
    "    Params:\n",
    "        probobilities: model outputs after activation function.\n",
    "        truth: truth values.\n",
    "        threshold: threshold for probabilities.\n",
    "        eps: additive to refine the estimate.\n",
    "        Returns: jaccard score aka iou.\"\n",
    "    \"\"\"\n",
    "    scores = []\n",
    "    num = probabilities.shape[0]\n",
    "    predictions = (probabilities >= treshold)\n",
    "    assert(predictions.shape == truth.shape)\n",
    "    \n",
    "    #recorremos nro de cortes\n",
    "    for i in range(num):\n",
    "        prediction = predictions[i]\n",
    "        truth_ = truth[i]\n",
    "        intersection = (prediction * truth_).sum()\n",
    "        union = (prediction.sum() + truth_.sum()) - intersection + eps\n",
    "        if truth_.sum() == 0 and prediction.sum() == 0:\n",
    "            scores.append(1.0)\n",
    "        else:\n",
    "            scores.append((intersection + eps) / union)\n",
    "    return np.mean(scores)"
   ]
  },
  {
   "cell_type": "code",
   "execution_count": 56,
   "metadata": {},
   "outputs": [],
   "source": [
    "#reading manual segmentation\n",
    "reader = sitk.ImageFileReader()\n",
    "reader.SetImageIO(\"NiftiImageIO\")\n",
    "reader.SetFileName(\"../../manualSegm/nifti/\"+estudio_sel+\".nii\")\n",
    "manualSegm = reader.Execute()"
   ]
  },
  {
   "cell_type": "code",
   "execution_count": 57,
   "metadata": {},
   "outputs": [
    {
     "name": "stdout",
     "output_type": "stream",
     "text": [
      "(70, 512, 512)\n",
      "(70, 512, 512)\n"
     ]
    }
   ],
   "source": [
    "manualSegmarray = sitk.GetArrayFromImage(manualSegm)\n",
    "print(manualSegmarray.shape)\n",
    "print(maskAsImage.shape)"
   ]
  },
  {
   "cell_type": "code",
   "execution_count": 58,
   "metadata": {},
   "outputs": [
    {
     "name": "stdout",
     "output_type": "stream",
     "text": [
      "Dice Coeff: 0.9113642182057903\n"
     ]
    }
   ],
   "source": [
    "print(\"Dice Coeff: {}\".format(dice_coef_metric(maskAsImage,manualSegmarray)))"
   ]
  },
  {
   "cell_type": "code",
   "execution_count": 59,
   "metadata": {},
   "outputs": [
    {
     "name": "stdout",
     "output_type": "stream",
     "text": [
      "Jaccard Coeff: 0.8536947183981938\n"
     ]
    }
   ],
   "source": [
    "print(\"Jaccard Coeff: {}\".format(jaccard_coef_metric(maskAsImage,manualSegmarray)))"
   ]
  },
  {
   "cell_type": "markdown",
   "metadata": {},
   "source": [
    "#### Lectura"
   ]
  },
  {
   "cell_type": "code",
   "execution_count": 5,
   "metadata": {},
   "outputs": [
    {
     "name": "stderr",
     "output_type": "stream",
     "text": [
      "100%|██████████| 18/18 [00:17<00:00,  1.02it/s]\n"
     ]
    }
   ],
   "source": [
    "#Lectura de las segmentaciones manuales\n",
    "metrics = []\n",
    "initName_manualSegm = \"COD00\"\n",
    "estudios_sel = []\n",
    "not_studies = [3,4,8,10,12,13,17,18,20,26,28]\n",
    "for i in range(1,30):\n",
    "    if (i not in not_studies):\n",
    "        if(int(math.log10(i))+1 == 1):\n",
    "            estudios_sel.append(initName_manualSegm+\"0\"+str(i))\n",
    "        else:\n",
    "            estudios_sel.append(initName_manualSegm+str(i))\n",
    "\n",
    "\n",
    "reader = sitk.ImageFileReader()\n",
    "reader.SetImageIO(\"NiftiImageIO\")\n",
    "### lectura de la segm manual\n",
    "for estudio in tqdm(estudios_sel):\n",
    "    \n",
    "    reader.SetFileName(\"../../manualSegm/nifti/\"+estudio+\".nii\")\n",
    "    manualSemgs = sitk.GetArrayFromImage(reader.Execute())\n",
    "\n",
    "    reader.SetFileName(\"saveSegm/maskAsImage_\"+estudio+\".nii.gz\")\n",
    "    unetSegms = sitk.GetArrayFromImage(reader.Execute())\n",
    "\n",
    "    metrics.append((estudio[-2:],dice_coef_metric(unetSegms,manualSemgs),jaccard_coef_metric(unetSegms,manualSemgs)))"
   ]
  },
  {
   "cell_type": "code",
   "execution_count": 6,
   "metadata": {},
   "outputs": [
    {
     "data": {
      "image/png": "[encoded data removed]",
      "text/plain": [
       "<Figure size 864x360 with 1 Axes>"
      ]
     },
     "metadata": {
      "needs_background": "light"
     },
     "output_type": "display_data"
    }
   ],
   "source": [
    "import seaborn as sns\n",
    "\n",
    "def show_values_on_bars(axs, h_v=\"v\", space=0.4):\n",
    "    def _show_on_single_plot(ax):\n",
    "        if h_v == \"v\":\n",
    "            for p in ax.patches:\n",
    "                _x = p.get_x() + p.get_width() / 2\n",
    "                _y = p.get_y()+0.01 + p.get_height()\n",
    "                value = '{:.2f}'.format(p.get_height())\n",
    "                ax.text(_x, _y, value, ha=\"center\", fontsize=12) \n",
    "        elif h_v == \"h\":\n",
    "            for p in ax.patches:\n",
    "                _x = p.get_x() + p.get_width() + float(space)\n",
    "                _y = p.get_y() + p.get_height()\n",
    "                value = p.get_width()\n",
    "                ax.text(_x, _y, value, ha=\"left\")\n",
    "\n",
    "    if isinstance(axs, np.ndarray):\n",
    "        for idx, ax in np.ndenumerate(axs):\n",
    "            _show_on_single_plot(ax)\n",
    "    else:\n",
    "        _show_on_single_plot(axs)\n",
    "        \n",
    "valDicom = []\n",
    "valMetric_dice = []\n",
    "valMetric_jaccard = []\n",
    "for metric in metrics:\n",
    "    valDicom.append(metric[0])\n",
    "    valMetric_dice.append(metric[1])\n",
    "    valMetric_jaccard.append(metric[2])\n",
    "dataMetrics = {\"dicom\": valDicom, \"dice\": valMetric_dice, \"jaccard\": valMetric_jaccard}\n",
    "#data\n",
    "dfMetric = pd.DataFrame(dataMetrics)\n",
    "#dfOrderMetric = dfMetric.sort_values(by=['dice_metrics'])\n",
    "\n",
    "plt.figure(figsize=(12,5))\n",
    "ax = sns.barplot(x=\"dicom\", y=\"dice\", data=dfMetric,palette=\"flare\")\n",
    "ax = sns.barplot(x=\"dicom\", y=\"jaccard\", data=dfMetric,palette=\"crest\")\n",
    "plt.setp(ax.get_xticklabels(), rotation=0)\n",
    "ax.tick_params(labelsize=14)\n",
    "ax.tick_params(length=0, axis='x')\n",
    "ax.set_ylabel(\"Dice & Jaccard Coefficient\", fontsize=12)\n",
    "ax.set_xlabel(\"ID Dicoms\", fontsize=12)\n",
    "ax.set_title(\"Dice & Jaccard Metrics between Unet Segmentation and Manual Segmentation\")\n",
    "show_values_on_bars(ax, \"v\", 0.3)\n",
    "plt.tight_layout()\n",
    "plt.show()\n"
   ]
  },
  {
   "cell_type": "code",
   "execution_count": null,
   "metadata": {},
   "outputs": [],
   "source": []
  }
 ],
 "metadata": {
  "kernelspec": {
   "display_name": "virtcovid",
   "language": "python",
   "name": "virtcovid"
  },
  "language_info": {
   "codemirror_mode": {
    "name": "ipython",
    "version": 3
   },
   "file_extension": ".py",
   "mimetype": "text/x-python",
   "name": "python",
   "nbconvert_exporter": "python",
   "pygments_lexer": "ipython3",
   "version": "3.9.6"
  },
  "papermill": {
   "duration": 34.345753,
   "end_time": "2020-09-03T15:41:49.926828",
   "environment_variables": {},
   "exception": null,
   "input_path": "__notebook__.ipynb",
   "output_path": "__notebook__.ipynb",
   "parameters": {},
   "start_time": "2020-09-03T15:41:15.581075",
   "version": "2.1.0"
  },
  "widgets": {
   "application/vnd.jupyter.widget-state+json": {
    "state": {
     "1909a9bc91154f049bc2118c66a943b7": {
      "model_module": "@jupyter-widgets/base",
      "model_module_version": "1.2.0",
      "model_name": "LayoutModel",
      "state": {
       "_model_module": "@jupyter-widgets/base",
       "_model_module_version": "1.2.0",
       "_model_name": "LayoutModel",
       "_view_count": null,
       "_view_module": "@jupyter-widgets/base",
       "_view_module_version": "1.2.0",
       "_view_name": "LayoutView",
       "align_content": null,
       "align_items": null,
       "align_self": null,
       "border": null,
       "bottom": null,
       "display": null,
       "flex": null,
       "flex_flow": null,
       "grid_area": null,
       "grid_auto_columns": null,
       "grid_auto_flow": null,
       "grid_auto_rows": null,
       "grid_column": null,
       "grid_gap": null,
       "grid_row": null,
       "grid_template_areas": null,
       "grid_template_columns": null,
       "grid_template_rows": null,
       "height": null,
       "justify_content": null,
       "justify_items": null,
       "left": null,
       "margin": null,
       "max_height": null,
       "max_width": null,
       "min_height": null,
       "min_width": null,
       "object_fit": null,
       "object_position": null,
       "order": null,
       "overflow": null,
       "overflow_x": null,
       "overflow_y": null,
       "padding": null,
       "right": null,
       "top": null,
       "visibility": null,
       "width": null
      }
     },
     "2f355007a6c44801bbd4d411763dc20b": {
      "model_module": "@jupyter-widgets/base",
      "model_module_version": "1.2.0",
      "model_name": "LayoutModel",
      "state": {
       "_model_module": "@jupyter-widgets/base",
       "_model_module_version": "1.2.0",
       "_model_name": "LayoutModel",
       "_view_count": null,
       "_view_module": "@jupyter-widgets/base",
       "_view_module_version": "1.2.0",
       "_view_name": "LayoutView",
       "align_content": null,
       "align_items": null,
       "align_self": null,
       "border": null,
       "bottom": null,
       "display": null,
       "flex": null,
       "flex_flow": null,
       "grid_area": null,
       "grid_auto_columns": null,
       "grid_auto_flow": null,
       "grid_auto_rows": null,
       "grid_column": null,
       "grid_gap": null,
       "grid_row": null,
       "grid_template_areas": null,
       "grid_template_columns": null,
       "grid_template_rows": null,
       "height": null,
       "justify_content": null,
       "justify_items": null,
       "left": null,
       "margin": null,
       "max_height": null,
       "max_width": null,
       "min_height": null,
       "min_width": null,
       "object_fit": null,
       "object_position": null,
       "order": null,
       "overflow": null,
       "overflow_x": null,
       "overflow_y": null,
       "padding": null,
       "right": null,
       "top": null,
       "visibility": null,
       "width": null
      }
     },
     "47c17452e41f40b896e93778e950b57e": {
      "model_module": "@jupyter-widgets/controls",
      "model_module_version": "1.5.0",
      "model_name": "DescriptionStyleModel",
      "state": {
       "_model_module": "@jupyter-widgets/controls",
       "_model_module_version": "1.5.0",
       "_model_name": "DescriptionStyleModel",
       "_view_count": null,
       "_view_module": "@jupyter-widgets/base",
       "_view_module_version": "1.2.0",
       "_view_name": "StyleView",
       "description_width": ""
      }
     },
     "58d282ed050a4dc7af7b388ef090ff9c": {
      "model_module": "@jupyter-widgets/controls",
      "model_module_version": "1.5.0",
      "model_name": "HBoxModel",
      "state": {
       "_dom_classes": [],
       "_model_module": "@jupyter-widgets/controls",
       "_model_module_version": "1.5.0",
       "_model_name": "HBoxModel",
       "_view_count": null,
       "_view_module": "@jupyter-widgets/controls",
       "_view_module_version": "1.5.0",
       "_view_name": "HBoxView",
       "box_style": "",
       "children": [
        "IPY_MODEL_e73351da6d0d4f6ab2d50db8280f072a",
        "IPY_MODEL_dc4a0ecf98b64875bc5784dc6da176d6"
       ],
       "layout": "IPY_MODEL_2f355007a6c44801bbd4d411763dc20b"
      }
     },
     "6aee8b80f42e4919873c56d6b2bcabf3": {
      "model_module": "@jupyter-widgets/controls",
      "model_module_version": "1.5.0",
      "model_name": "ProgressStyleModel",
      "state": {
       "_model_module": "@jupyter-widgets/controls",
       "_model_module_version": "1.5.0",
       "_model_name": "ProgressStyleModel",
       "_view_count": null,
       "_view_module": "@jupyter-widgets/base",
       "_view_module_version": "1.2.0",
       "_view_name": "StyleView",
       "bar_color": null,
       "description_width": "initial"
      }
     },
     "8dc861f191594d09b58c9c0aca3753e5": {
      "model_module": "@jupyter-widgets/base",
      "model_module_version": "1.2.0",
      "model_name": "LayoutModel",
      "state": {
       "_model_module": "@jupyter-widgets/base",
       "_model_module_version": "1.2.0",
       "_model_name": "LayoutModel",
       "_view_count": null,
       "_view_module": "@jupyter-widgets/base",
       "_view_module_version": "1.2.0",
       "_view_name": "LayoutView",
       "align_content": null,
       "align_items": null,
       "align_self": null,
       "border": null,
       "bottom": null,
       "display": null,
       "flex": null,
       "flex_flow": null,
       "grid_area": null,
       "grid_auto_columns": null,
       "grid_auto_flow": null,
       "grid_auto_rows": null,
       "grid_column": null,
       "grid_gap": null,
       "grid_row": null,
       "grid_template_areas": null,
       "grid_template_columns": null,
       "grid_template_rows": null,
       "height": null,
       "justify_content": null,
       "justify_items": null,
       "left": null,
       "margin": null,
       "max_height": null,
       "max_width": null,
       "min_height": null,
       "min_width": null,
       "object_fit": null,
       "object_position": null,
       "order": null,
       "overflow": null,
       "overflow_x": null,
       "overflow_y": null,
       "padding": null,
       "right": null,
       "top": null,
       "visibility": null,
       "width": null
      }
     },
     "dc4a0ecf98b64875bc5784dc6da176d6": {
      "model_module": "@jupyter-widgets/controls",
      "model_module_version": "1.5.0",
      "model_name": "HTMLModel",
      "state": {
       "_dom_classes": [],
       "_model_module": "@jupyter-widgets/controls",
       "_model_module_version": "1.5.0",
       "_model_name": "HTMLModel",
       "_view_count": null,
       "_view_module": "@jupyter-widgets/controls",
       "_view_module_version": "1.5.0",
       "_view_name": "HTMLView",
       "description": "",
       "description_tooltip": null,
       "layout": "IPY_MODEL_8dc861f191594d09b58c9c0aca3753e5",
       "placeholder": "​",
       "style": "IPY_MODEL_47c17452e41f40b896e93778e950b57e",
       "value": " 119M/119M [00:03&lt;00:00, 37.5MB/s]"
      }
     },
     "e73351da6d0d4f6ab2d50db8280f072a": {
      "model_module": "@jupyter-widgets/controls",
      "model_module_version": "1.5.0",
      "model_name": "FloatProgressModel",
      "state": {
       "_dom_classes": [],
       "_model_module": "@jupyter-widgets/controls",
       "_model_module_version": "1.5.0",
       "_model_name": "FloatProgressModel",
       "_view_count": null,
       "_view_module": "@jupyter-widgets/controls",
       "_view_module_version": "1.5.0",
       "_view_name": "ProgressView",
       "bar_style": "success",
       "description": "100%",
       "description_tooltip": null,
       "layout": "IPY_MODEL_1909a9bc91154f049bc2118c66a943b7",
       "max": 124340403,
       "min": 0,
       "orientation": "horizontal",
       "style": "IPY_MODEL_6aee8b80f42e4919873c56d6b2bcabf3",
       "value": 124340403
      }
     }
    },
    "version_major": 2,
    "version_minor": 0
   }
  }
 },
 "nbformat": 4,
 "nbformat_minor": 4
}
